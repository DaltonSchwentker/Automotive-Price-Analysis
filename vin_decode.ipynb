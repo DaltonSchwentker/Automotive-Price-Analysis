{
 "cells": [
  {
   "cell_type": "code",
   "execution_count": 19,
   "metadata": {},
   "outputs": [],
   "source": [
    "from requests_futures.sessions import FuturesSession\n",
    "from tqdm import tqdm\n",
    "import requests\n",
    "import json\n",
    "import pandas as pd"
   ]
  },
  {
   "cell_type": "code",
   "execution_count": 42,
   "metadata": {},
   "outputs": [],
   "source": [
    "df = pd.read_csv(r'C:\\Users\\Dalton\\Documents\\Portfolio Projects\\Automotive Price Analysis\\car data\\car_data_05-11-2023--080002.csv')"
   ]
  },
  {
   "cell_type": "code",
   "execution_count": 43,
   "metadata": {},
   "outputs": [],
   "source": [
    "df['Make'] = \"\"\n",
    "df['Model'] = \"\"\n",
    "df['Year'] = \"\"\n",
    "df['Trim'] = \"\""
   ]
  },
  {
   "cell_type": "code",
   "execution_count": 44,
   "metadata": {},
   "outputs": [
    {
     "name": "stderr",
     "output_type": "stream",
     "text": [
      "100%|██████████| 40/40 [00:15<00:00,  2.62it/s]\n"
     ]
    }
   ],
   "source": [
    "url = 'https://vpic.nhtsa.dot.gov/api/vehicles/DecodeVINValuesBatch/'\n",
    "\n",
    "chunk_size = 50  # Set chunk size to 50\n",
    "session = FuturesSession(max_workers=40)  # Set the number of concurrent requests\n",
    "\n",
    "futures = []\n",
    "\n",
    "for i in range(0, len(df), chunk_size):\n",
    "    chunk = df[i:i+chunk_size]\n",
    "    vins = ';'.join(chunk['VIN'])\n",
    "    post_fields = {'format': 'json', 'data': vins}\n",
    "    futures.append(session.post(url, data=post_fields))\n",
    "\n",
    "results = []\n",
    "\n",
    "for future in tqdm(futures, total=len(futures)):\n",
    "    response = future.result()\n",
    "    data = json.loads(response.text)\n",
    "    for result in data['Results']:\n",
    "        if 'Message' in result:\n",
    "            print(f\"Message from API: {result['Message']}\")\n",
    "        else:\n",
    "            results.append({\n",
    "                'VIN': result['VIN'],\n",
    "                'Make': result['Make'],\n",
    "                'Model': result['Model'],\n",
    "                'Year': result['ModelYear'],\n",
    "                'Trim': result['Trim']\n",
    "            })\n",
    "\n",
    "results_df = pd.DataFrame(results)\n",
    "df = pd.merge(df, results_df, on='VIN')\n",
    "\n",
    "df.to_csv(r'C:\\Users\\Dalton\\Documents\\Portfolio Projects\\Automotive Price Analysis.csv', index=False)"
   ]
  },
  {
   "cell_type": "code",
   "execution_count": null,
   "metadata": {},
   "outputs": [],
   "source": []
  }
 ],
 "metadata": {
  "kernelspec": {
   "display_name": "base",
   "language": "python",
   "name": "python3"
  },
  "language_info": {
   "codemirror_mode": {
    "name": "ipython",
    "version": 3
   },
   "file_extension": ".py",
   "mimetype": "text/x-python",
   "name": "python",
   "nbconvert_exporter": "python",
   "pygments_lexer": "ipython3",
   "version": "3.10.9"
  },
  "orig_nbformat": 4
 },
 "nbformat": 4,
 "nbformat_minor": 2
}
