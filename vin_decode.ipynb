{
 "cells": [
  {
   "cell_type": "code",
   "execution_count": 47,
   "metadata": {},
   "outputs": [],
   "source": [
    "from requests_futures.sessions import FuturesSession\n",
    "from tqdm import tqdm\n",
    "import requests\n",
    "import json\n",
    "import pandas as pd\n",
    "import re"
   ]
  },
  {
   "cell_type": "code",
   "execution_count": 36,
   "metadata": {},
   "outputs": [],
   "source": [
    "df = pd.read_csv(r\"C:\\Users\\Dalton\\Documents\\Portfolio Projects\\Automotive Price Analysis\\car data\\car_data_05-12-2023--080001.csv\")"
   ]
  },
  {
   "cell_type": "code",
   "execution_count": 37,
   "metadata": {},
   "outputs": [],
   "source": [
    "df['Make'] = \"\"\n",
    "df['Model'] = \"\"\n",
    "df['Year'] = \"\"\n",
    "df['Trim'] = \"\""
   ]
  },
  {
   "cell_type": "code",
   "execution_count": 38,
   "metadata": {},
   "outputs": [
    {
     "name": "stderr",
     "output_type": "stream",
     "text": [
      "100%|██████████| 40/40 [01:46<00:00,  2.66s/it]\n"
     ]
    }
   ],
   "source": [
    "url = 'https://vpic.nhtsa.dot.gov/api/vehicles/DecodeVINValuesBatch/'\n",
    "\n",
    "chunk_size = 50  # Set chunk size to 50\n",
    "session = FuturesSession(max_workers=2)  # Set the number of concurrent requests\n",
    "\n",
    "futures = []\n",
    "\n",
    "for i in range(0, len(df), chunk_size):\n",
    "    chunk = df[i:i+chunk_size]\n",
    "    vins = ';'.join(chunk['VIN'])\n",
    "    post_fields = {'format': 'json', 'data': vins}\n",
    "    futures.append(session.post(url, data=post_fields))\n",
    "\n",
    "results = []\n",
    "\n",
    "for future in tqdm(futures, total=len(futures)):\n",
    "    response = future.result()\n",
    "    \n",
    "    # Check the response status code\n",
    "    if response.status_code != 200:\n",
    "        print(f\"Received unexpected status code {response.status_code}: {response.text}\")\n",
    "        continue\n",
    "\n",
    "    try:\n",
    "        data = json.loads(response.text)\n",
    "        for result in data['Results']:\n",
    "            if 'Message' in result:\n",
    "                print(f\"Message from API: {result['Message']}\")\n",
    "            else:\n",
    "                results.append({\n",
    "                    'VIN': result['VIN'],\n",
    "                    'Make': result['Make'],\n",
    "                    'Model': result['Model'],\n",
    "                    'Year': result['ModelYear'],\n",
    "                    'Trim': result['Trim']\n",
    "                })\n",
    "    except json.JSONDecodeError:\n",
    "        print(f\"Failed to decode JSON from response: {response.text}\")\n",
    "\n",
    "results_df = pd.DataFrame(results)\n",
    "df = pd.merge(df, results_df, on='VIN')"
   ]
  },
  {
   "cell_type": "code",
   "execution_count": 39,
   "metadata": {},
   "outputs": [],
   "source": [
    "# Cleaning \"Car Price\" column\n",
    "# Remove any non-digit characters, including currency symbols\n",
    "df['Car Price'] = df['Car Price'].replace('[^\\d.]+', '', regex=True)\n",
    "# Convert to numeric, replacing any non-convertible values with NaN\n",
    "df['Car Price'] = pd.to_numeric(df['Car Price'], errors='coerce')\n",
    "\n",
    "# Cleaning \"Car Mileage\" column\n",
    "df['Car Mileage'] = df['Car Mileage'].str.replace(',', '').str.replace(' mi\\.', '', regex=True)\n",
    "df['Car Mileage'] = df['Car Mileage'].replace('–', pd.NA)\n",
    "df['Car Mileage'] = pd.to_numeric(df['Car Mileage'], errors='coerce')"
   ]
  },
  {
   "cell_type": "code",
   "execution_count": 41,
   "metadata": {},
   "outputs": [],
   "source": [
    "# Define general color buckets with associated keywords\n",
    "color_buckets = {\n",
    "    'Red': ['Red', 'Rosso', 'Crimson', 'Ruby'],\n",
    "    'Black': ['Black', 'Noir', 'Ebony'],\n",
    "    'White': ['White', 'Ivory'],\n",
    "    'Gray': ['Gray', 'Grey', 'Graphite', 'Metallic'],\n",
    "    'Blue': ['Blue', 'Azure', 'Cobalt'],\n",
    "    'Green': ['Green', 'Emerald'],\n",
    "    'Brown': ['Brown', 'Chocolate', 'Sandstone'],\n",
    "    'Yellow': ['Yellow', 'Gold'],\n",
    "    'Orange': ['Orange'],\n",
    "}\n",
    "\n",
    "# Define a function to map specific colors to general color buckets\n",
    "def map_to_general_color(specific_color):\n",
    "    for general_color, keywords in color_buckets.items():\n",
    "        if any(keyword.lower() in specific_color.lower() for keyword in keywords):\n",
    "            return general_color\n",
    "    return 'Other'\n",
    "\n",
    "# Apply the function to the 'Exterior Color' column\n",
    "df['Exterior Color General'] = df['Exterior Color'].apply(map_to_general_color)\n",
    "\n",
    "# Apply the function to the 'Interior Color' column\n",
    "df['Interior Color General'] = df['Interior Color'].apply(map_to_general_color)"
   ]
  },
  {
   "cell_type": "code",
   "execution_count": 43,
   "metadata": {},
   "outputs": [],
   "source": [
    "# Define a mapping for drivetrain categories\n",
    "drivetrain_mapping = {\n",
    "    'Front-wheel Drive': 'FWD',\n",
    "    'All-wheel Drive': 'AWD',\n",
    "    'Four-wheel Drive': '4WD',\n",
    "    'Rear-wheel Drive': 'RWD',\n",
    "    'FWD': 'FWD',\n",
    "    'AWD': 'AWD',\n",
    "    '4WD': '4WD',\n",
    "    'RWD': 'RWD',\n",
    "    '–': 'Other'\n",
    "}\n",
    "\n",
    "# Apply the mapping to the 'Drivetrain' column\n",
    "df['Drivetrain General'] = df['Drivetrain'].map(drivetrain_mapping)"
   ]
  },
  {
   "cell_type": "code",
   "execution_count": 48,
   "metadata": {},
   "outputs": [],
   "source": [
    "# Define a mapping for fuel type categories\n",
    "def map_fuel_type(fuel_type):\n",
    "    if fuel_type in ['Gasoline', '–', '']:\n",
    "        return 'Gasoline'\n",
    "    elif fuel_type == 'Diesel':\n",
    "        return 'Diesel'\n",
    "    elif fuel_type == 'Electric':\n",
    "        return 'Electric'\n",
    "    elif fuel_type == 'E85 Flex Fuel':\n",
    "        return 'Flex Fuel'\n",
    "    elif fuel_type == 'Hybrid':\n",
    "        return 'Hybrid'\n",
    "    else:\n",
    "        return 'Other'\n",
    "\n",
    "# Apply the mapping to the 'Fuel Type' column\n",
    "df['Fuel Type General'] = df['Fuel Type'].apply(map_fuel_type)"
   ]
  },
  {
   "cell_type": "code",
   "execution_count": 49,
   "metadata": {},
   "outputs": [],
   "source": [
    "# Define a function to map specific transmissions to general transmission categories\n",
    "def map_transmission(transmission):\n",
    "    if 'automatic' in transmission.lower() or 'cvt' in transmission.lower() or 'tiptronic' in transmission.lower() or 'shiftronic' in transmission.lower():\n",
    "        return 'Automatic'\n",
    "    elif 'manual' in transmission.lower() or 'm/t' in transmission.lower():\n",
    "        return 'Manual'\n",
    "    else:\n",
    "        return 'Other'\n",
    "\n",
    "# Apply the function to the 'Transmission' column\n",
    "df['Transmission General'] = df['Transmission'].apply(map_transmission)"
   ]
  },
  {
   "cell_type": "code",
   "execution_count": 51,
   "metadata": {},
   "outputs": [],
   "source": [
    "# Define a function to extract the engine size\n",
    "def extract_engine_size(engine):\n",
    "    engine_size = None\n",
    "    # Extract engine size using regular expression (e.g., \"2.0L\")\n",
    "    match = re.search(r'\\d+\\.\\d+L', engine)\n",
    "    if match:\n",
    "        engine_size = match.group(0)\n",
    "    return engine_size\n",
    "\n",
    "# Apply the function to the 'Engine' column\n",
    "df['Engine Size'] = df['Engine'].apply(extract_engine_size)"
   ]
  },
  {
   "cell_type": "code",
   "execution_count": 52,
   "metadata": {},
   "outputs": [],
   "source": [
    "# Define a function to extract the engine configuration\n",
    "def extract_engine_configuration(engine):\n",
    "    # Extract engine configuration using regular expression (e.g., \"I4\", \"V6\")\n",
    "    match = re.search(r'[IViv]\\d+', engine)\n",
    "    if match:\n",
    "        return match.group(0)\n",
    "    return None\n",
    "\n",
    "# Apply the function to the 'Engine' column\n",
    "df['Engine Configuration'] = df['Engine'].apply(extract_engine_configuration)"
   ]
  },
  {
   "cell_type": "code",
   "execution_count": 53,
   "metadata": {},
   "outputs": [],
   "source": [
    "# Define a function to extract the fuel system\n",
    "def extract_fuel_system(engine):\n",
    "    # Common fuel system types\n",
    "    fuel_systems = ['GDI', 'MPFI', 'DI', 'SFI']\n",
    "    for fs in fuel_systems:\n",
    "        if fs in engine:\n",
    "            return fs\n",
    "    return None\n",
    "\n",
    "# Apply the function to the 'Engine' column\n",
    "df['Fuel System'] = df['Engine'].apply(extract_fuel_system)"
   ]
  },
  {
   "cell_type": "code",
   "execution_count": 54,
   "metadata": {},
   "outputs": [],
   "source": [
    "# Define a function to extract the turbocharged indicator\n",
    "def extract_turbocharged(engine):\n",
    "    return int('turbo' in engine.lower())\n",
    "\n",
    "# Define a function to extract the hybrid indicator\n",
    "def extract_hybrid(engine):\n",
    "    return int('hybrid' in engine.lower())\n",
    "\n",
    "# Apply the functions to the 'Engine' column\n",
    "df['Turbocharged'] = df['Engine'].apply(extract_turbocharged)\n",
    "df['Hybrid'] = df['Engine'].apply(extract_hybrid)"
   ]
  },
  {
   "cell_type": "code",
   "execution_count": 55,
   "metadata": {},
   "outputs": [],
   "source": [
    "df.to_csv(r'C:\\Users\\Dalton\\Documents\\Portfolio Projects\\Automotive Price Analysis.csv', index=False)"
   ]
  }
 ],
 "metadata": {
  "kernelspec": {
   "display_name": "base",
   "language": "python",
   "name": "python3"
  },
  "language_info": {
   "codemirror_mode": {
    "name": "ipython",
    "version": 3
   },
   "file_extension": ".py",
   "mimetype": "text/x-python",
   "name": "python",
   "nbconvert_exporter": "python",
   "pygments_lexer": "ipython3",
   "version": "3.10.9"
  },
  "orig_nbformat": 4
 },
 "nbformat": 4,
 "nbformat_minor": 2
}
